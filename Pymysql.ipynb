{
 "cells": [
  {
   "cell_type": "code",
   "execution_count": 1,
   "id": "07bfec9e",
   "metadata": {},
   "outputs": [
    {
     "name": "stdout",
     "output_type": "stream",
     "text": [
      "Collecting pymysql\n",
      "  Downloading PyMySQL-1.0.2-py3-none-any.whl (43 kB)\n",
      "     ---------------------------------------- 43.8/43.8 KB 2.2 MB/s eta 0:00:00\n",
      "Installing collected packages: pymysql\n",
      "Successfully installed pymysql-1.0.2\n"
     ]
    },
    {
     "name": "stderr",
     "output_type": "stream",
     "text": [
      "WARNING: You are using pip version 22.0.4; however, version 22.1.2 is available.\n",
      "You should consider upgrading via the 'D:\\python3.10.4\\python.exe -m pip install --upgrade pip' command.\n"
     ]
    }
   ],
   "source": [
    "!pip install pymysql"
   ]
  },
  {
   "cell_type": "code",
   "execution_count": 18,
   "id": "712fe8cd",
   "metadata": {},
   "outputs": [],
   "source": [
    "import pymysql"
   ]
  },
  {
   "cell_type": "code",
   "execution_count": 19,
   "id": "bf7d0495",
   "metadata": {},
   "outputs": [
    {
     "data": {
      "text/plain": [
       "<pymysql.connections.Connection at 0x252bc23b550>"
      ]
     },
     "execution_count": 19,
     "metadata": {},
     "output_type": "execute_result"
    }
   ],
   "source": [
    "conn = pymysql.connect(host= 'localhost',port= 3306, password= 'Mysql@2022', user= 'root', database= 'assignment1')\n",
    "conn"
   ]
  },
  {
   "cell_type": "code",
   "execution_count": 20,
   "id": "5a6109b1",
   "metadata": {},
   "outputs": [
    {
     "data": {
      "text/plain": [
       "1"
      ]
     },
     "execution_count": 20,
     "metadata": {},
     "output_type": "execute_result"
    }
   ],
   "source": [
    "cursor = conn.cursor()\n",
    "str1 = 'select version()'\n",
    "cursor.execute(str1)\n"
   ]
  },
  {
   "cell_type": "code",
   "execution_count": 21,
   "id": "4c2248a6",
   "metadata": {},
   "outputs": [
    {
     "data": {
      "text/plain": [
       "(('8.0.28',),)"
      ]
     },
     "execution_count": 21,
     "metadata": {},
     "output_type": "execute_result"
    }
   ],
   "source": [
    "cursor.fetchall()"
   ]
  },
  {
   "cell_type": "code",
   "execution_count": 22,
   "id": "c35ead7e",
   "metadata": {},
   "outputs": [
    {
     "name": "stdout",
     "output_type": "stream",
     "text": [
      "(('AR', 'Argentina', Decimal('2')), ('AU', 'Australia', Decimal('3')), ('BE', 'Belgium', Decimal('1')), ('BR', 'Brazil', Decimal('2')), ('CA', 'Canada', Decimal('2')), ('CH', 'Switzerland', Decimal('1')), ('CN', 'China', Decimal('3')), ('DE', 'Germany', Decimal('1')), ('DK', 'Denmark', Decimal('1')), ('EG', 'Egypt', Decimal('4')), ('FR', 'France', Decimal('1')), ('HK', 'HongKong', Decimal('3')), ('IL', 'Israel', Decimal('4')), ('IN', 'India', Decimal('3')), ('IT', 'Italy', Decimal('1')), ('JP', 'Japan', Decimal('3')), ('KW', 'Kuwait', Decimal('4')), ('MX', 'Mexico', Decimal('2')), ('NG', 'Nigeria', Decimal('4')), ('NL', 'Netherlands', Decimal('1')), ('SG', 'Singapore', Decimal('3')), ('UK', 'United Kingdom', Decimal('1')), ('US', 'United States of America', Decimal('2')), ('ZM', 'Zambia', Decimal('4')), ('ZW', 'Zimbabwe', Decimal('4')))\n"
     ]
    }
   ],
   "source": [
    "cursor.execute(\"select * from countries\")\n",
    "output = cursor.fetchall()\n",
    "print(output)"
   ]
  },
  {
   "cell_type": "code",
   "execution_count": 23,
   "id": "8b97c6f7",
   "metadata": {},
   "outputs": [],
   "source": [
    "conn.close()"
   ]
  },
  {
   "cell_type": "markdown",
   "id": "cfb1aeff",
   "metadata": {},
   "source": [
    "# As we can see we got the output in the form of a tuple containing many tuples"
   ]
  },
  {
   "cell_type": "code",
   "execution_count": null,
   "id": "e0f539f1",
   "metadata": {},
   "outputs": [],
   "source": []
  },
  {
   "cell_type": "code",
   "execution_count": null,
   "id": "e8b46123",
   "metadata": {},
   "outputs": [],
   "source": []
  }
 ],
 "metadata": {
  "kernelspec": {
   "display_name": "Python 3 (ipykernel)",
   "language": "python",
   "name": "python3"
  },
  "language_info": {
   "codemirror_mode": {
    "name": "ipython",
    "version": 3
   },
   "file_extension": ".py",
   "mimetype": "text/x-python",
   "name": "python",
   "nbconvert_exporter": "python",
   "pygments_lexer": "ipython3",
   "version": "3.10.4"
  }
 },
 "nbformat": 4,
 "nbformat_minor": 5
}
